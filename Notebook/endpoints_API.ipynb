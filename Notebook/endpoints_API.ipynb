{
 "cells": [
  {
   "cell_type": "code",
   "execution_count": 1,
   "id": "7d9e5994",
   "metadata": {},
   "outputs": [],
   "source": [
    "import requests"
   ]
  },
  {
   "cell_type": "code",
   "execution_count": 2,
   "id": "84bb3230",
   "metadata": {},
   "outputs": [],
   "source": [
    "movies = requests.get(\"http://127.0.0.1:5000/movies\").json()"
   ]
  },
  {
   "cell_type": "code",
   "execution_count": 3,
   "id": "7c517c10",
   "metadata": {},
   "outputs": [],
   "source": [
    "#movies"
   ]
  },
  {
   "cell_type": "code",
   "execution_count": 4,
   "id": "d95a6ea9",
   "metadata": {},
   "outputs": [],
   "source": [
    "phrases = requests.get(\"http://127.0.0.1:5000/phrases\").json()"
   ]
  },
  {
   "cell_type": "code",
   "execution_count": 5,
   "id": "d67ebaa7",
   "metadata": {},
   "outputs": [],
   "source": [
    "#phrases"
   ]
  },
  {
   "cell_type": "code",
   "execution_count": 6,
   "id": "2cb22086",
   "metadata": {},
   "outputs": [],
   "source": [
    "context = requests.get(\"http://127.0.0.1:5000/context\").json()"
   ]
  },
  {
   "cell_type": "code",
   "execution_count": 7,
   "id": "22f89305",
   "metadata": {},
   "outputs": [],
   "source": [
    "#context"
   ]
  },
  {
   "cell_type": "code",
   "execution_count": 18,
   "id": "6d687c25",
   "metadata": {},
   "outputs": [],
   "source": [
    "movie = \"SCARFACE\""
   ]
  },
  {
   "cell_type": "code",
   "execution_count": 19,
   "id": "bd37a535",
   "metadata": {},
   "outputs": [],
   "source": [
    "phrases2 = requests.get(f\"http://127.0.0.1:5000/phrases/{movie}\").json()"
   ]
  },
  {
   "cell_type": "code",
   "execution_count": 20,
   "id": "42ac6219",
   "metadata": {},
   "outputs": [
    {
     "data": {
      "text/plain": [
       "'[{\"phrases_name\":\"Say `hello` to my little friend!\",\"movie_name\":\"SCARFACE\"},{\"phrases_name\":\"In this country, you gotta make the money first.\\\\n. Then, when you get the money, you get the power.\\\\n. Then when you get the power, THEN you get the woman!\",\"movie_name\":\"SCARFACE\"}]'"
      ]
     },
     "execution_count": 20,
     "metadata": {},
     "output_type": "execute_result"
    }
   ],
   "source": [
    "phrases2"
   ]
  },
  {
   "cell_type": "code",
   "execution_count": 11,
   "id": "3153986b",
   "metadata": {},
   "outputs": [],
   "source": [
    "context2 = requests.get(f\"http://127.0.0.1:5000/context/{movie}\").json()  "
   ]
  },
  {
   "cell_type": "code",
   "execution_count": 12,
   "id": "87a15d68",
   "metadata": {},
   "outputs": [
    {
     "data": {
      "text/plain": [
       "'[{\"context_name\":\"Lydia, summoning Beetlejuice\",\"movie_name\":\"BEETLEJUICE\"},{\"context_name\":\"Beetlejuice, being summoned.\",\"movie_name\":\"BEETLEJUICE\"}]'"
      ]
     },
     "execution_count": 12,
     "metadata": {},
     "output_type": "execute_result"
    }
   ],
   "source": [
    "context2"
   ]
  },
  {
   "cell_type": "code",
   "execution_count": 15,
   "id": "a616e18f",
   "metadata": {},
   "outputs": [],
   "source": [
    "movie2 = \"THE GOONIES\""
   ]
  },
  {
   "cell_type": "code",
   "execution_count": 16,
   "id": "3a361147",
   "metadata": {},
   "outputs": [],
   "source": [
    "completo = requests.get(f\"http://127.0.0.1:5000/completo/{movie2}\").json()  "
   ]
  },
  {
   "cell_type": "code",
   "execution_count": 17,
   "id": "f24c5e24",
   "metadata": {},
   "outputs": [
    {
     "data": {
      "text/plain": [
       "'[{\"context_name\":\"Sloth, calling the attention of the children he`s about to save\",\"movie_name\":\"THE GOONIES\",\"phrases_name\":\"Hey you guys!\"},{\"context_name\":\"Terry Malloy, to his brother Charley, on what could have been without fixing fights\",\"movie_name\":\"THE GOONIES\",\"phrases_name\":\"Goonies never say die!\"}]'"
      ]
     },
     "execution_count": 17,
     "metadata": {},
     "output_type": "execute_result"
    }
   ],
   "source": [
    "completo"
   ]
  },
  {
   "cell_type": "code",
   "execution_count": 21,
   "id": "8c0e86c8",
   "metadata": {},
   "outputs": [],
   "source": [
    "movie_ = \"BEETLEJUICE\""
   ]
  },
  {
   "cell_type": "code",
   "execution_count": 22,
   "id": "8f700346",
   "metadata": {},
   "outputs": [],
   "source": [
    "traducción = requests.get(f\"http://127.0.0.1:5000/frases_lan/{movie_}?idioma=en\").json()  "
   ]
  },
  {
   "cell_type": "code",
   "execution_count": 23,
   "id": "8e394432",
   "metadata": {},
   "outputs": [
    {
     "data": {
      "text/plain": [
       "' Traducción: [{\"Frases_name\": \"Beetlejuice, Beetlejuice, Beetlejuice!\", \"movie_name\": \"BEETLEJUICE\"}, {\"Frases_name\": \"¡Es hora del espectáculo!\", \"Movie_name\": \"BEETLEJUICE\"}, {\"Frases_name\" : \"Ninguno\", \"movie_name\": \"BEETLEJUICE\"}, {\"Frases_name\": \"Soy un fantasma con más, nena\", \"Movie_name\": \"BEETLEJUICE\"}, {\"Frases_name\": \"Soy un fantasma con más, nena. \",\" movie_name \":\" BEETLEJUICE \"}]'"
      ]
     },
     "execution_count": 23,
     "metadata": {},
     "output_type": "execute_result"
    }
   ],
   "source": [
    "traducción"
   ]
  },
  {
   "cell_type": "markdown",
   "id": "c436f995",
   "metadata": {},
   "source": [
    "### POST"
   ]
  },
  {
   "cell_type": "code",
   "execution_count": 68,
   "id": "8f837c58",
   "metadata": {},
   "outputs": [],
   "source": [
    "insert_phrase = {\"phrases\" : \"I am a ghost with the most, babe.\", \"context\" : 1, \"movie\": 1}"
   ]
  },
  {
   "cell_type": "code",
   "execution_count": 69,
   "id": "c934bcd3",
   "metadata": {},
   "outputs": [
    {
     "data": {
      "text/plain": [
       "<Response [200]>"
      ]
     },
     "execution_count": 69,
     "metadata": {},
     "output_type": "execute_result"
    }
   ],
   "source": [
    "requests.post(\"http://127.0.0.1:5000/nuevafrase\", data= insert_phrase) #creo un endpoint nuevo para insertar"
   ]
  },
  {
   "cell_type": "code",
   "execution_count": 70,
   "id": "ec3b95b8",
   "metadata": {},
   "outputs": [],
   "source": [
    "insert_movie = {\"movie_name\" : \"Torrente\"}"
   ]
  },
  {
   "cell_type": "code",
   "execution_count": 71,
   "id": "aa8d40fb",
   "metadata": {},
   "outputs": [
    {
     "data": {
      "text/plain": [
       "<Response [200]>"
      ]
     },
     "execution_count": 71,
     "metadata": {},
     "output_type": "execute_result"
    }
   ],
   "source": [
    "requests.post(\"http://127.0.0.1:5000/nuevamovie\", data= insert_movie) #creo un endpoint nuevo para insertar"
   ]
  },
  {
   "cell_type": "markdown",
   "id": "533ffed2",
   "metadata": {},
   "source": [
    "### ANÁLISIS DE SENTIMIENTOS"
   ]
  },
  {
   "cell_type": "code",
   "execution_count": 26,
   "id": "1256c59b",
   "metadata": {},
   "outputs": [],
   "source": [
    "sentimientos = requests.get(f\"http://127.0.0.1:5000/sentimientos/{movie}\")"
   ]
  },
  {
   "cell_type": "code",
   "execution_count": 27,
   "id": "cdd64d6b",
   "metadata": {},
   "outputs": [
    {
     "data": {
      "text/plain": [
       "0.22085"
      ]
     },
     "execution_count": 27,
     "metadata": {},
     "output_type": "execute_result"
    }
   ],
   "source": [
    "sentimientos.json()"
   ]
  }
 ],
 "metadata": {
  "kernelspec": {
   "display_name": "ironhack",
   "language": "python",
   "name": "ironhack"
  },
  "language_info": {
   "codemirror_mode": {
    "name": "ipython",
    "version": 3
   },
   "file_extension": ".py",
   "mimetype": "text/x-python",
   "name": "python",
   "nbconvert_exporter": "python",
   "pygments_lexer": "ipython3",
   "version": "3.8.5"
  }
 },
 "nbformat": 4,
 "nbformat_minor": 5
}
